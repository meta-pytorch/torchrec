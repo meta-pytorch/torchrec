{
  "cells": [
    {
      "cell_type": "markdown",
      "metadata": {
        "id": "hBgIy9eYYx35"
      },
      "source": [
        "## **Installation**\n",
        "Requirements:\n",
        "- python >= 3.7\n",
        "\n",
        "We highly recommend CUDA when using torchRec. If using CUDA:\n",
        "- cuda >= 11.0\n"
      ]
    },
    {
      "cell_type": "code",
      "execution_count": 1,
      "metadata": {
        "id": "BB2K68OYUJ_t",
        "output": {
          "id": 1226213035567159,
          "loadingStatus": "loaded"
        }
      },
      "outputs": [
        {
          "name": "stdout",
          "output_type": "stream",
          "text": [
            "rm: cannot remove 'Miniconda3-py37_4.9.2-Linux-x86_64.sh': No such file or directory\r\n",
            "rm: cannot remove 'Miniconda3-py37_4.9.2-Linux-x86_64.sh.*': No such file or directory\r\n",
            "--2025-05-15 11:42:12--  https://repo.anaconda.com/miniconda/Miniconda3-py37_4.9.2-Linux-x86_64.sh\r\n",
            "Resolving repo.anaconda.com (repo.anaconda.com)... failed: Name or service not known.\r\n",
            "wget: unable to resolve host address ‘repo.anaconda.com’\r\n",
            "chmod: cannot access 'Miniconda3-py37_4.9.2-Linux-x86_64.sh': No such file or directory\r\n",
            "bash: ./Miniconda3-py37_4.9.2-Linux-x86_64.sh: No such file or directory\r\n"
          ]
        }
      ],
      "source": [
        "# install conda to make installying pytorch with cudatoolkit 11.3 easier.\n",
        "!sudo rm Miniconda3-py37_4.9.2-Linux-x86_64.sh Miniconda3-py37_4.9.2-Linux-x86_64.sh.*\n",
        "!sudo wget https://repo.anaconda.com/miniconda/Miniconda3-py37_4.9.2-Linux-x86_64.sh\n",
        "!sudo chmod +x Miniconda3-py37_4.9.2-Linux-x86_64.sh\n",
        "!sudo bash ./Miniconda3-py37_4.9.2-Linux-x86_64.sh -b -f -p /usr/local"
      ]
    },
    {
      "cell_type": "code",
      "execution_count": null,
      "metadata": {
        "id": "sFYvP95xaAER"
      },
      "outputs": [],
      "source": [
        "# install pytorch with cudatoolkit 11.3\n",
        "!sudo conda install pytorch cudatoolkit=11.3 -c pytorch-nightly -y"
      ]
    },
    {
      "cell_type": "markdown",
      "metadata": {
        "id": "7iY7Uv11mJYK"
      },
      "source": [
        "Installing torchRec will also install [FBGEMM](https://github.com/pytorch/fbgemm), a collection of CUDA kernels and GPU enabled operations to run "
      ]
    },
    {
      "cell_type": "code",
      "execution_count": null,
      "metadata": {
        "id": "tUnIw-ZREQJy"
      },
      "outputs": [],
      "source": [
        "# install torchrec\n",
        "!pip3 install torchrec-nightly"
      ]
    },
    {
      "cell_type": "markdown",
      "metadata": {
        "id": "0wLX94Lw_Lml"
      },
      "source": [
        "Install multiprocess which works with ipython to for multi-processing programming within colab"
      ]
    },
    {
      "cell_type": "code",
      "execution_count": null,
      "metadata": {
        "id": "HKoKRP-QzRCF"
      },
      "outputs": [],
      "source": [
        "!pip3 install multiprocess"
      ]
    },
    {
      "cell_type": "markdown",
      "metadata": {
        "id": "b6EHgotRXFQh"
      },
      "source": [
        "The following steps are needed for the Colab runtime to detect the added shared libraries. The runtime searches for shared libraries in /usr/lib, so we copy over the libraries which were installed in /usr/local/lib/. **This is a very necessary step, only in the colab runtime**. "
      ]
    },
    {
      "cell_type": "code",
      "execution_count": null,
      "metadata": {
        "id": "_P45pDteRcWj"
      },
      "outputs": [],
      "source": [
        "!sudo cp /usr/local/lib/lib* /usr/lib/"
      ]
    },
    {
      "cell_type": "markdown",
      "metadata": {
        "id": "n5_X2WOAYG3c"
      },
      "source": [
        "\\**Restart your runtime at this point for the newly installed packages to be seen.** Run the step below immediately after restarting so that python knows where to look for packages. **Always run this step after restarting the runtime.**"
      ]
    },
    {
      "cell_type": "code",
      "execution_count": 17,
      "metadata": {
        "id": "8cktNrh8R9rC"
      },
      "outputs": [],
      "source": [
        "import sys\n",
        "sys.path = ['', '/env/python', '/usr/local/lib/python37.zip', '/usr/local/lib/python3.7', '/usr/local/lib/python3.7/lib-dynload', '/usr/local/lib/python3.7/site-packages', './.local/lib/python3.7/site-packages']"
      ]
    },
    {
      "cell_type": "markdown",
      "metadata": {
        "id": "HWBOrwVSnrNE"
      },
      "source": [
        "## **Overview**\n",
        "This tutorial will mainly cover the sharding schemes of embedding tables via `EmbeddingPlanner` and `DistributedModelParallel` API and explore the benefits of different sharding schemes for the embedding tables by explicitly configuring them."
      ]
    },
    {
      "cell_type": "markdown",
      "metadata": {
        "id": "udsN6PlUo1zF"
      },
      "source": [
        "### Distributed Setup\n",
        "Due to the notebook enviroment, we cannot run [`SPMD`](https://en.wikipedia.org/wiki/SPMD) program here but we can do multiprocessing inside the notebook to mimic the setup. Users should be responsible for setting up their own [`SPMD`](https://en.wikipedia.org/wiki/SPMD) launcher when using Torchrec. \n",
        "We setup our environment so that torch distributed based communication backend can work."
      ]
    },
    {
      "cell_type": "code",
      "execution_count": 18,
      "metadata": {
        "id": "4-v17rxkopQw"
      },
      "outputs": [],
      "source": [
        "import os\n",
        "import torch\n",
        "import torchrec\n",
        "\n",
        "os.environ[\"MASTER_ADDR\"] = \"localhost\"\n",
        "os.environ[\"MASTER_PORT\"] = \"29500\""
      ]
    },
    {
      "cell_type": "markdown",
      "metadata": {
        "id": "ZdSUWBRxoP8R"
      },
      "source": [
        "### Constructing our embedding model\n",
        "Here we use TorchRec offering of [`EmbeddingBagCollection`](https://github.com/facebookresearch/torchrec/blob/main/torchrec/modules/embedding_modules.py#L59) to construct our embedding bag model with embedding tables.\n",
        "\n",
        "Here, we create an EmbeddingBagCollection (EBC) with four embedding bags. We have two types of tables: large tables and small tables differentiated by their row size difference: 4096 vs 1024. Each table is still represented by 64 dimension embedding. \n",
        "\n",
        "We configure the `ParameterConstraints` data structure for the tables, which provides hints for the model parallel API to help decide the sharding and placement strategy for the tables.\n",
        "In TorchRec, we support \n",
        "* `table-wise`: place the entire table on one device;\n",
        "* `row-wise`: shard the table evenly by row dimension and place one shard on each device of the communication world;\n",
        "* `column-wise`: shard the table evenly by embedding dimension, and place one shard on each device of the communication world;\n",
        "* `table-row-wise`: special sharding optimized for intra-host communication for available fast intra-machine device interconnect, e.g. NVLink;\n",
        "* `data_parallel`: replicate the tables for every device;\n",
        "\n",
        "Note how we initially allocate the EBC on device \"meta\". This will tell EBC to not allocate memory yet."
      ]
    },
    {
      "cell_type": "code",
      "execution_count": 19,
      "metadata": {
        "id": "e7UQBuG09hbj"
      },
      "outputs": [],
      "source": [
        "from torchrec.distributed.planner.types import ParameterConstraints\n",
        "from torchrec.distributed.embedding_types import EmbeddingComputeKernel\n",
        "from torchrec.distributed.types import ShardingType, ShardingPlan\n",
        "from typing import Dict\n",
        "\n",
        "large_table_cnt = 2\n",
        "small_table_cnt = 2\n",
        "large_tables=[\n",
        "  torchrec.EmbeddingBagConfig(\n",
        "    name=\"large_table_\" + str(i),\n",
        "    embedding_dim=64,\n",
        "    num_embeddings=4096,\n",
        "    feature_names=[\"large_table_feature_\" + str(i)],\n",
        "    pooling=torchrec.PoolingType.SUM,\n",
        "  ) for i in range(large_table_cnt)\n",
        "]\n",
        "small_tables=[\n",
        "  torchrec.EmbeddingBagConfig(\n",
        "    name=\"small_table_\" + str(i),\n",
        "    embedding_dim=64,\n",
        "    num_embeddings=1024,\n",
        "    feature_names=[\"small_table_feature_\" + str(i)],\n",
        "    pooling=torchrec.PoolingType.SUM,\n",
        "  ) for i in range(small_table_cnt)\n",
        "]\n",
        "\n",
        "def gen_constraints(sharding_type: ShardingType = ShardingType.TABLE_WISE) -> Dict[str, ParameterConstraints]:\n",
        "  large_table_constraints = {\n",
        "    \"large_table_\" + str(i): ParameterConstraints(\n",
        "      sharding_types=[sharding_type.value],\n",
        "    ) for i in range(large_table_cnt)\n",
        "  }\n",
        "  small_table_constraints = {\n",
        "    \"small_table_\" + str(i): ParameterConstraints(\n",
        "      sharding_types=[sharding_type.value],\n",
        "    ) for i in range(small_table_cnt)\n",
        "  }\n",
        "  constraints = {**large_table_constraints, **small_table_constraints}\n",
        "  return constraints"
      ]
    },
    {
      "cell_type": "code",
      "execution_count": 20,
      "metadata": {
        "id": "Iz_GZDp_oQ19"
      },
      "outputs": [],
      "source": [
        "ebc = torchrec.EmbeddingBagCollection(\n",
        "    device=\"cuda\",\n",
        "    tables=large_tables + small_tables\n",
        ")"
      ]
    },
    {
      "cell_type": "markdown",
      "metadata": {
        "id": "7m0_ssVLFQEH"
      },
      "source": [
        "### DistributedModelParallel in multiprocessing\n",
        "Now, we have a single process execution function for mimicking one rank's work during [`SPMD`](https://en.wikipedia.org/wiki/SPMD) execution.\n",
        "\n",
        "This code will shard the model collectively with other processes and allocate memories accordingly. It first sets up process groups and do embedding table placement using planner and generate sharded model using `DistributedModelParallel`.\n"
      ]
    },
    {
      "cell_type": "code",
      "execution_count": 21,
      "metadata": {
        "id": "PztCaGmLA85u"
      },
      "outputs": [],
      "source": [
        "def single_rank_execution(\n",
        "    rank: int,\n",
        "    world_size: int,\n",
        "    constraints: Dict[str, ParameterConstraints],\n",
        "    module: torch.nn.Module,\n",
        "    backend: str,\n",
        ") -> None:\n",
        "    import os\n",
        "    import torch\n",
        "    import torch.distributed as dist\n",
        "    from torchrec.distributed.embeddingbag import EmbeddingBagCollectionSharder\n",
        "    from torchrec.distributed.model_parallel import DistributedModelParallel\n",
        "    from torchrec.distributed.planner import EmbeddingShardingPlanner, Topology\n",
        "    from torchrec.distributed.types import ModuleSharder, ShardingEnv\n",
        "    from typing import cast\n",
        "\n",
        "    def init_distributed_single_host(\n",
        "        rank: int,\n",
        "        world_size: int,\n",
        "        backend: str,\n",
        "        # pyre-fixme[11]: Annotation `ProcessGroup` is not defined as a type.\n",
        "    ) -> dist.ProcessGroup:\n",
        "        os.environ[\"RANK\"] = f\"{rank}\"\n",
        "        os.environ[\"WORLD_SIZE\"] = f\"{world_size}\"\n",
        "        dist.init_process_group(rank=rank, world_size=world_size, backend=backend)\n",
        "        return dist.group.WORLD\n",
        "\n",
        "    if backend == \"nccl\":\n",
        "        device = torch.device(f\"cuda:{rank}\")\n",
        "        torch.cuda.set_device(device)\n",
        "    else:\n",
        "        device = torch.device(\"cpu\")\n",
        "    topology = Topology(world_size=world_size, compute_device=\"cuda\")\n",
        "    pg = init_distributed_single_host(rank, world_size, backend)\n",
        "    planner = EmbeddingShardingPlanner(\n",
        "        topology=topology,\n",
        "        constraints=constraints,\n",
        "    )\n",
        "    sharders = [cast(ModuleSharder[torch.nn.Module], EmbeddingBagCollectionSharder())]\n",
        "    plan: ShardingPlan = planner.collective_plan(module, sharders, pg)\n",
        "\n",
        "    sharded_model = DistributedModelParallel(\n",
        "        module,\n",
        "        env=ShardingEnv.from_process_group(pg),\n",
        "        plan=plan,\n",
        "        sharders=sharders,\n",
        "        device=device,\n",
        "    )\n",
        "    print(f\"rank:{rank},sharding plan: {plan}\")\n",
        "    return sharded_model\n"
      ]
    },
    {
      "cell_type": "markdown",
      "metadata": {
        "id": "3YvDnV_wz_An"
      },
      "source": [
        "### Multiprocessing Execution\n",
        "Now let's execute the code in multi-processes representing multiple GPU ranks.\n",
        "\n"
      ]
    },
    {
      "cell_type": "code",
      "execution_count": 22,
      "metadata": {
        "id": "arW0Jf6qEl-h"
      },
      "outputs": [],
      "source": [
        "import multiprocess\n",
        "\n",
        "def spmd_sharing_simulation(\n",
        "    sharding_type: ShardingType = ShardingType.TABLE_WISE,\n",
        "    world_size = 2,\n",
        "):\n",
        "  ctx = multiprocess.get_context(\"spawn\")\n",
        "  processes = []\n",
        "  for rank in range(world_size):\n",
        "      p = ctx.Process(\n",
        "          target=single_rank_execution,\n",
        "          args=(\n",
        "              rank,\n",
        "              world_size,\n",
        "              gen_constraints(sharding_type),\n",
        "              ebc,\n",
        "              \"nccl\"\n",
        "          ),\n",
        "      )\n",
        "      p.start()\n",
        "      processes.append(p)\n",
        "\n",
        "  for p in processes:\n",
        "      p.join()\n",
        "      assert 0 == p.exitcode"
      ]
    },
    {
      "cell_type": "markdown",
      "metadata": {
        "id": "31UWMaymj7Pu"
      },
      "source": [
        "### Table Wise Sharding\n",
        "Now let's execute the code in two processes for 2 GPUs. We can see in the plan print that how our tables are sharded across GPUs. Each node will have one large table and one small which shows our planner tries for load balance for the embedding tables. Table-wise is the de-factor go-to sharding schemes for many small-medium size tables for load balancing over the devices."
      ]
    },
    {
      "cell_type": "code",
      "execution_count": 23,
      "metadata": {
        "colab": {
          "base_uri": "https://localhost:8080/"
        },
        "id": "Yb4v1HA3IJzU",
        "outputId": "b8f08b10-eb85-48f3-8705-b67efd4eba2c"
      },
      "outputs": [
        {
          "name": "stdout",
          "output_type": "stream",
          "text": [
            "rank:1,sharding plan: {'': {'large_table_0': ParameterSharding(sharding_type='table_wise', compute_kernel='batched_fused', ranks=[0], sharding_spec=EnumerableShardingSpec(shards=[ShardMetadata(shard_offsets=[0, 0], shard_sizes=[4096, 64], placement=rank:0/cuda:0)])), 'large_table_1': ParameterSharding(sharding_type='table_wise', compute_kernel='batched_fused', ranks=[1], sharding_spec=EnumerableShardingSpec(shards=[ShardMetadata(shard_offsets=[0, 0], shard_sizes=[4096, 64], placement=rank:1/cuda:1)])), 'small_table_0': ParameterSharding(sharding_type='table_wise', compute_kernel='batched_fused', ranks=[0], sharding_spec=EnumerableShardingSpec(shards=[ShardMetadata(shard_offsets=[0, 0], shard_sizes=[1024, 64], placement=rank:0/cuda:0)])), 'small_table_1': ParameterSharding(sharding_type='table_wise', compute_kernel='batched_fused', ranks=[1], sharding_spec=EnumerableShardingSpec(shards=[ShardMetadata(shard_offsets=[0, 0], shard_sizes=[1024, 64], placement=rank:1/cuda:1)]))}}\n",
            "rank:0,sharding plan: {'': {'large_table_0': ParameterSharding(sharding_type='table_wise', compute_kernel='batched_fused', ranks=[0], sharding_spec=EnumerableShardingSpec(shards=[ShardMetadata(shard_offsets=[0, 0], shard_sizes=[4096, 64], placement=rank:0/cuda:0)])), 'large_table_1': ParameterSharding(sharding_type='table_wise', compute_kernel='batched_fused', ranks=[1], sharding_spec=EnumerableShardingSpec(shards=[ShardMetadata(shard_offsets=[0, 0], shard_sizes=[4096, 64], placement=rank:1/cuda:1)])), 'small_table_0': ParameterSharding(sharding_type='table_wise', compute_kernel='batched_fused', ranks=[0], sharding_spec=EnumerableShardingSpec(shards=[ShardMetadata(shard_offsets=[0, 0], shard_sizes=[1024, 64], placement=rank:0/cuda:0)])), 'small_table_1': ParameterSharding(sharding_type='table_wise', compute_kernel='batched_fused', ranks=[1], sharding_spec=EnumerableShardingSpec(shards=[ShardMetadata(shard_offsets=[0, 0], shard_sizes=[1024, 64], placement=rank:1/cuda:1)]))}}\n"
          ]
        },
        {
          "name": "stderr",
          "output_type": "stream",
          "text": [
            "/usr/local/lib/python3.7/site-packages/torch/nn/modules/module.py:1403: UserWarning: positional arguments and argument \"destination\" are deprecated. nn.Module.state_dict will not accept them in the future. Refer to https://pytorch.org/docs/master/generated/torch.nn.Module.html#torch.nn.Module.state_dict for details.\n",
            "  \" and \".join(warn_msg) + \" are deprecated. nn.Module.state_dict will not accept them in the future. \"\n",
            "/usr/local/lib/python3.7/site-packages/torch/nn/modules/module.py:1403: UserWarning: positional arguments and argument \"destination\" are deprecated. nn.Module.state_dict will not accept them in the future. Refer to https://pytorch.org/docs/master/generated/torch.nn.Module.html#torch.nn.Module.state_dict for details.\n",
            "  \" and \".join(warn_msg) + \" are deprecated. nn.Module.state_dict will not accept them in the future. \"\n"
          ]
        }
      ],
      "source": [
        "spmd_sharing_simulation(ShardingType.TABLE_WISE)"
      ]
    },
    {
      "cell_type": "markdown",
      "metadata": {
        "id": "5HkwxEwm4O8u"
      },
      "source": [
        "### Explore other sharding modes\n",
        "We have initially explored what table-wise sharding would look like and how it balances the tables placement. Now we explore sharding modes with finer focus on load balance: row-wise. Row-wise is specifically addressing large tables which a single device cannot hold due to the memory size increase from large embedding row numbers. It can address the placement of the super large tables in your models. Users can see that in the `shard_sizes` section in the printed plan log, the tables are halved by row dimension to be distributed onto two GPUs.\n"
      ]
    },
    {
      "cell_type": "code",
      "execution_count": 24,
      "metadata": {
        "colab": {
          "base_uri": "https://localhost:8080/"
        },
        "id": "pGBgReGx5VrB",
        "outputId": "6e22a2f0-7373-4dcc-ee69-67f3e95d78a7"
      },
      "outputs": [
        {
          "name": "stdout",
          "output_type": "stream",
          "text": [
            "rank:1,sharding plan: {'': {'large_table_0': ParameterSharding(sharding_type='row_wise', compute_kernel='batched_fused', ranks=[0, 1], sharding_spec=EnumerableShardingSpec(shards=[ShardMetadata(shard_offsets=[0, 0], shard_sizes=[2048, 64], placement=rank:0/cuda:0), ShardMetadata(shard_offsets=[2048, 0], shard_sizes=[2048, 64], placement=rank:1/cuda:1)])), 'large_table_1': ParameterSharding(sharding_type='row_wise', compute_kernel='batched_fused', ranks=[0, 1], sharding_spec=EnumerableShardingSpec(shards=[ShardMetadata(shard_offsets=[0, 0], shard_sizes=[2048, 64], placement=rank:0/cuda:0), ShardMetadata(shard_offsets=[2048, 0], shard_sizes=[2048, 64], placement=rank:1/cuda:1)])), 'small_table_0': ParameterSharding(sharding_type='row_wise', compute_kernel='batched_fused', ranks=[0, 1], sharding_spec=EnumerableShardingSpec(shards=[ShardMetadata(shard_offsets=[0, 0], shard_sizes=[512, 64], placement=rank:0/cuda:0), ShardMetadata(shard_offsets=[512, 0], shard_sizes=[512, 64], placement=rank:1/cuda:1)])), 'small_table_1': ParameterSharding(sharding_type='row_wise', compute_kernel='batched_fused', ranks=[0, 1], sharding_spec=EnumerableShardingSpec(shards=[ShardMetadata(shard_offsets=[0, 0], shard_sizes=[512, 64], placement=rank:0/cuda:0), ShardMetadata(shard_offsets=[512, 0], shard_sizes=[512, 64], placement=rank:1/cuda:1)]))}}\n",
            "rank:0,sharding plan: {'': {'large_table_0': ParameterSharding(sharding_type='row_wise', compute_kernel='batched_fused', ranks=[0, 1], sharding_spec=EnumerableShardingSpec(shards=[ShardMetadata(shard_offsets=[0, 0], shard_sizes=[2048, 64], placement=rank:0/cuda:0), ShardMetadata(shard_offsets=[2048, 0], shard_sizes=[2048, 64], placement=rank:1/cuda:1)])), 'large_table_1': ParameterSharding(sharding_type='row_wise', compute_kernel='batched_fused', ranks=[0, 1], sharding_spec=EnumerableShardingSpec(shards=[ShardMetadata(shard_offsets=[0, 0], shard_sizes=[2048, 64], placement=rank:0/cuda:0), ShardMetadata(shard_offsets=[2048, 0], shard_sizes=[2048, 64], placement=rank:1/cuda:1)])), 'small_table_0': ParameterSharding(sharding_type='row_wise', compute_kernel='batched_fused', ranks=[0, 1], sharding_spec=EnumerableShardingSpec(shards=[ShardMetadata(shard_offsets=[0, 0], shard_sizes=[512, 64], placement=rank:0/cuda:0), ShardMetadata(shard_offsets=[512, 0], shard_sizes=[512, 64], placement=rank:1/cuda:1)])), 'small_table_1': ParameterSharding(sharding_type='row_wise', compute_kernel='batched_fused', ranks=[0, 1], sharding_spec=EnumerableShardingSpec(shards=[ShardMetadata(shard_offsets=[0, 0], shard_sizes=[512, 64], placement=rank:0/cuda:0), ShardMetadata(shard_offsets=[512, 0], shard_sizes=[512, 64], placement=rank:1/cuda:1)]))}}\n"
          ]
        },
        {
          "name": "stderr",
          "output_type": "stream",
          "text": [
            "/usr/local/lib/python3.7/site-packages/torch/nn/modules/module.py:1403: UserWarning: positional arguments and argument \"destination\" are deprecated. nn.Module.state_dict will not accept them in the future. Refer to https://pytorch.org/docs/master/generated/torch.nn.Module.html#torch.nn.Module.state_dict for details.\n",
            "  \" and \".join(warn_msg) + \" are deprecated. nn.Module.state_dict will not accept them in the future. \"\n",
            "/usr/local/lib/python3.7/site-packages/torch/nn/modules/module.py:1403: UserWarning: positional arguments and argument \"destination\" are deprecated. nn.Module.state_dict will not accept them in the future. Refer to https://pytorch.org/docs/master/generated/torch.nn.Module.html#torch.nn.Module.state_dict for details.\n",
            "  \" and \".join(warn_msg) + \" are deprecated. nn.Module.state_dict will not accept them in the future. \"\n"
          ]
        }
      ],
      "source": [
        "spmd_sharing_simulation(ShardingType.ROW_WISE)"
      ]
    },
    {
      "cell_type": "markdown",
      "metadata": {
        "id": "mqnInw_uEjjY"
      },
      "source": [
        "Column-wise on the other hand, address the load imbalance problems for tables with large embedding dimensions. We will split the table vertically. Users can see that in the `shard_sizes` section in the printed plan log, the tables are halved by embedding dimension to be distributed onto two GPUs.\n"
      ]
    },
    {
      "cell_type": "code",
      "execution_count": 25,
      "metadata": {
        "colab": {
          "base_uri": "https://localhost:8080/"
        },
        "id": "DWTyuV9I5afU",
        "outputId": "daaa95cd-f653-47fe-809f-5d1d63cc05d7"
      },
      "outputs": [
        {
          "name": "stdout",
          "output_type": "stream",
          "text": [
            "rank:0,sharding plan: {'': {'large_table_0': ParameterSharding(sharding_type='column_wise', compute_kernel='batched_fused', ranks=[0, 1], sharding_spec=EnumerableShardingSpec(shards=[ShardMetadata(shard_offsets=[0, 0], shard_sizes=[4096, 32], placement=rank:0/cuda:0), ShardMetadata(shard_offsets=[0, 32], shard_sizes=[4096, 32], placement=rank:1/cuda:1)])), 'large_table_1': ParameterSharding(sharding_type='column_wise', compute_kernel='batched_fused', ranks=[0, 1], sharding_spec=EnumerableShardingSpec(shards=[ShardMetadata(shard_offsets=[0, 0], shard_sizes=[4096, 32], placement=rank:0/cuda:0), ShardMetadata(shard_offsets=[0, 32], shard_sizes=[4096, 32], placement=rank:1/cuda:1)])), 'small_table_0': ParameterSharding(sharding_type='column_wise', compute_kernel='batched_fused', ranks=[0, 1], sharding_spec=EnumerableShardingSpec(shards=[ShardMetadata(shard_offsets=[0, 0], shard_sizes=[1024, 32], placement=rank:0/cuda:0), ShardMetadata(shard_offsets=[0, 32], shard_sizes=[1024, 32], placement=rank:1/cuda:1)])), 'small_table_1': ParameterSharding(sharding_type='column_wise', compute_kernel='batched_fused', ranks=[0, 1], sharding_spec=EnumerableShardingSpec(shards=[ShardMetadata(shard_offsets=[0, 0], shard_sizes=[1024, 32], placement=rank:0/cuda:0), ShardMetadata(shard_offsets=[0, 32], shard_sizes=[1024, 32], placement=rank:1/cuda:1)]))}}\n",
            "rank:1,sharding plan: {'': {'large_table_0': ParameterSharding(sharding_type='column_wise', compute_kernel='batched_fused', ranks=[0, 1], sharding_spec=EnumerableShardingSpec(shards=[ShardMetadata(shard_offsets=[0, 0], shard_sizes=[4096, 32], placement=rank:0/cuda:0), ShardMetadata(shard_offsets=[0, 32], shard_sizes=[4096, 32], placement=rank:1/cuda:1)])), 'large_table_1': ParameterSharding(sharding_type='column_wise', compute_kernel='batched_fused', ranks=[0, 1], sharding_spec=EnumerableShardingSpec(shards=[ShardMetadata(shard_offsets=[0, 0], shard_sizes=[4096, 32], placement=rank:0/cuda:0), ShardMetadata(shard_offsets=[0, 32], shard_sizes=[4096, 32], placement=rank:1/cuda:1)])), 'small_table_0': ParameterSharding(sharding_type='column_wise', compute_kernel='batched_fused', ranks=[0, 1], sharding_spec=EnumerableShardingSpec(shards=[ShardMetadata(shard_offsets=[0, 0], shard_sizes=[1024, 32], placement=rank:0/cuda:0), ShardMetadata(shard_offsets=[0, 32], shard_sizes=[1024, 32], placement=rank:1/cuda:1)])), 'small_table_1': ParameterSharding(sharding_type='column_wise', compute_kernel='batched_fused', ranks=[0, 1], sharding_spec=EnumerableShardingSpec(shards=[ShardMetadata(shard_offsets=[0, 0], shard_sizes=[1024, 32], placement=rank:0/cuda:0), ShardMetadata(shard_offsets=[0, 32], shard_sizes=[1024, 32], placement=rank:1/cuda:1)]))}}\n"
          ]
        },
        {
          "name": "stderr",
          "output_type": "stream",
          "text": [
            "/usr/local/lib/python3.7/site-packages/torch/nn/modules/module.py:1403: UserWarning: positional arguments and argument \"destination\" are deprecated. nn.Module.state_dict will not accept them in the future. Refer to https://pytorch.org/docs/master/generated/torch.nn.Module.html#torch.nn.Module.state_dict for details.\n",
            "  \" and \".join(warn_msg) + \" are deprecated. nn.Module.state_dict will not accept them in the future. \"\n",
            "/usr/local/lib/python3.7/site-packages/torch/nn/modules/module.py:1403: UserWarning: positional arguments and argument \"destination\" are deprecated. nn.Module.state_dict will not accept them in the future. Refer to https://pytorch.org/docs/master/generated/torch.nn.Module.html#torch.nn.Module.state_dict for details.\n",
            "  \" and \".join(warn_msg) + \" are deprecated. nn.Module.state_dict will not accept them in the future. \"\n"
          ]
        }
      ],
      "source": [
        "spmd_sharing_simulation(ShardingType.COLUMN_WISE)"
      ]
    },
    {
      "cell_type": "markdown",
      "metadata": {
        "id": "711VBygVHGJ6"
      },
      "source": [
        "For `table-row-wise`, unfortuately we cannot simulate it due to its nature of operating under multi-host setup. We will present a python [`SPMD`](https://en.wikipedia.org/wiki/SPMD) example in the future to train models with `table-row-wise`."
      ]
    },
    {
      "cell_type": "markdown",
      "metadata": {
        "id": "1G8aUfmeMA7m"
      },
      "source": [
        "\n",
        "With data parallel, we will repeat the tables for all devices.\n"
      ]
    },
    {
      "cell_type": "code",
      "execution_count": 26,
      "metadata": {
        "colab": {
          "base_uri": "https://localhost:8080/"
        },
        "id": "WFk-QLlRL-ST",
        "outputId": "662a6d6e-cb1b-440d-ff1b-4619076117a3"
      },
      "outputs": [
        {
          "name": "stdout",
          "output_type": "stream",
          "text": [
            "rank:0,sharding plan: {'': {'large_table_0': ParameterSharding(sharding_type='data_parallel', compute_kernel='batched_dense', ranks=[0, 1], sharding_spec=None), 'large_table_1': ParameterSharding(sharding_type='data_parallel', compute_kernel='batched_dense', ranks=[0, 1], sharding_spec=None), 'small_table_0': ParameterSharding(sharding_type='data_parallel', compute_kernel='batched_dense', ranks=[0, 1], sharding_spec=None), 'small_table_1': ParameterSharding(sharding_type='data_parallel', compute_kernel='batched_dense', ranks=[0, 1], sharding_spec=None)}}\n",
            "rank:1,sharding plan: {'': {'large_table_0': ParameterSharding(sharding_type='data_parallel', compute_kernel='batched_dense', ranks=[0, 1], sharding_spec=None), 'large_table_1': ParameterSharding(sharding_type='data_parallel', compute_kernel='batched_dense', ranks=[0, 1], sharding_spec=None), 'small_table_0': ParameterSharding(sharding_type='data_parallel', compute_kernel='batched_dense', ranks=[0, 1], sharding_spec=None), 'small_table_1': ParameterSharding(sharding_type='data_parallel', compute_kernel='batched_dense', ranks=[0, 1], sharding_spec=None)}}\n"
          ]
        },
        {
          "name": "stderr",
          "output_type": "stream",
          "text": [
            "/usr/local/lib/python3.7/site-packages/torch/nn/modules/module.py:1403: UserWarning: positional arguments and argument \"destination\" are deprecated. nn.Module.state_dict will not accept them in the future. Refer to https://pytorch.org/docs/master/generated/torch.nn.Module.html#torch.nn.Module.state_dict for details.\n",
            "  \" and \".join(warn_msg) + \" are deprecated. nn.Module.state_dict will not accept them in the future. \"\n",
            "/usr/local/lib/python3.7/site-packages/torch/nn/modules/module.py:1403: UserWarning: positional arguments and argument \"destination\" are deprecated. nn.Module.state_dict will not accept them in the future. Refer to https://pytorch.org/docs/master/generated/torch.nn.Module.html#torch.nn.Module.state_dict for details.\n",
            "  \" and \".join(warn_msg) + \" are deprecated. nn.Module.state_dict will not accept them in the future. \"\n"
          ]
        }
      ],
      "source": [
        "spmd_sharing_simulation(ShardingType.DATA_PARALLEL)"
      ]
    }
  ],
  "metadata": {
    "accelerator": "GPU",
    "colab": {
      "background_execution": "on",
      "collapsed_sections": [],
      "machine_shape": "hm",
      "name": "Torchrec Sharding Introduction.ipynb",
      "provenance": []
    },
    "fileHeader": "",
    "fileUid": "7751c451-b188-42e5-8c09-4564538f4e06",
    "isAdHoc": false,
    "kernelspec": {
      "display_name": "Python 3",
      "language": "python",
      "name": "bento_kernel_default"
    },
    "language_info": {
      "name": "python"
    },
    "notebookId": "1976711006070535",
    "notebookNumber": "N7182976"
  }
}
